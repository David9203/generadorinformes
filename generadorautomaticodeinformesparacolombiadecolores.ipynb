{
 "cells": [
  {
   "cell_type": "code",
   "execution_count": 2,
   "metadata": {},
   "outputs": [],
   "source": [
    "###Segunda clase, prueba de normalidad, pca y graficas\n",
    "\n",
    "import os\n",
    "import pandas as pd\n",
    "import numpy as np\n",
    "import matplotlib.pyplot as plt\n",
    "import seaborn as sns\n",
    "import random\n",
    "import sys"
   ]
  },
  {
   "cell_type": "code",
   "execution_count": 3,
   "metadata": {},
   "outputs": [
    {
     "name": "stdout",
     "output_type": "stream",
     "text": [
      "['Se adapta con facilidad al ambiente academico mostrando confianza, alegra e independencia.']\n",
      "['Se le dificulta adaptarse con facilidad al ambiente academicomostrando timidez, apata y dependencia.']\n",
      "['Disfruta y se integra a las diferentes propuestas cientficas en forma continua y puntual.']\n",
      "['Se destaca por su gran capacidad matemtica y colaboracin con sus compaeros y acompaantes.']\n",
      "['Demuestra sentimientos de solidaridad, amabilidad y responsabilidad.']\n",
      "['Soluciona en forma adecuada los conflictos con sus compaeros(as) Participa y colabora con sus compaeros(as) en la solucin de conflictos de programacin que se presentan.']\n",
      "['Prctica hbitos adecuados de orden en los cdigos y hardware.']\n",
      "['Practica normas de seguridad correspondientes a su tarea as como backups de los elementos']\n",
      "['Se manifiesta alegre y extrovertido(a) al integrarse con sus compaeros (as).']\n",
      "['Se observa en su comportamiento que es un poco introvertido(a) al integrarse con sus compaeros.']\n",
      "['Participa en juegos, rondas y actividades recreativas que ayudan a mejorar sus capacidades lgicas.']\n",
      "['Muestra poco interes al participar en juegos, rondas y actividades recreativas']\n",
      "['Expresa con claridad y coherencia sus ideas.']\n",
      "['Su lenguaje oral no es claro.']\n",
      "['Disfruta de el juego con el material didctico y los videos.']\n",
      "['Alcanza los logros propuestos para el taller propuesto sin necesidad de actividades complementarias.']\n",
      "['Demuestra responsabilidad al realizar las actividades asignadas .']\n",
      "['Muestra independencia y disponibilidad en la realizacin de las actividades propuestas.']\n",
      "['Participa respetuosamente en las diferentes actividades programadas.']\n",
      "['Es respetuoso(a) y delicado(a) en el trato con los dems.']\n",
      "['En ocasiones se le dificulta ser respetuoso(a) y delicado(a) en el trato con los dems']\n",
      "['Comparte, cuida y respeta los materiales propios y los ajenos.']\n",
      "['Escucha y disfruta de la explicacin de diversos tipos de algoritmos por otros compaeros']\n",
      "['Comparte y disfruta de las actividades grupales.']\n",
      "['An no se integra con facilidad durante la realizacin de actividades grupales.']\n",
      "['Presenta sus trabajos con orden y gusto esttico.']\n",
      "['En ocasiones presenta sus trabajos con poco orden y falta de gusto esttico.']\n"
     ]
    }
   ],
   "source": [
    "a=[]\n",
    "import csv\n",
    "with open('descrip.csv', 'r',encoding=\"utf8\", errors='ignore') as csvDataFile:\n",
    "    reader = csv.reader(csvDataFile)\n",
    "    for row in reader:\n",
    "        print(row)\n",
    "        a.append(row)"
   ]
  },
  {
   "cell_type": "code",
   "execution_count": 4,
   "metadata": {},
   "outputs": [],
   "source": [
    "#en estas variables van los nombres de los estudiantes bb\n",
    "\n",
    "fase3=['Nicolas Gomez','Camilo Duarte', 'Golasmith Montoya', 'Henao Felipe']\n",
    "fase2=['Sara Cardona','Yariahne Nahara', 'Aaraon Osorio','Alejandro Raigoza', 'Yenifer Rua', 'Santiago Gaviria']"
   ]
  },
  {
   "cell_type": "code",
   "execution_count": 4,
   "metadata": {},
   "outputs": [],
   "source": [
    "import random\n",
    "b=list()\n",
    "df=pd.DataFrame()"
   ]
  },
  {
   "cell_type": "code",
   "execution_count": 38,
   "metadata": {},
   "outputs": [
    {
     "data": {
      "text/plain": [
       "\"En ocasiones se le dificulta ser respetuoso(a) y delicado(a) en el trato con los dems,['Presenta sus trabajos con orden y gusto esttico.'],['Expresa con claridad y coherencia sus ideas.', ['Se le dificulta adaptarse con facilidad al ambiente academicomostrando timidez, apata y dependencia.'], ['Presenta sus trabajos con orden y gusto esttico.']],[],['Presenta sus trabajos con orden y gusto esttico.'],['Disfruta y se integra a las diferentes propuestas cientficas en forma continua y puntual.', ['Se destaca por su gran capacidad matemtica y colaboracin con sus compaeros y acompaantes.'], ['Se observa en su comportamiento que es un poco introvertido(a) al integrarse con sus compaeros.']],['Su lenguaje oral no es claro.']\""
      ]
     },
     "execution_count": 38,
     "metadata": {},
     "output_type": "execute_result"
    }
   ],
   "source": [
    "list1 = b\n",
    "values = ','.join(str(v) for v in b)\n",
    "values"
   ]
  },
  {
   "cell_type": "code",
   "execution_count": 34,
   "metadata": {},
   "outputs": [
    {
     "data": {
      "text/plain": [
       "['En ocasiones se le dificulta ser respetuoso(a) y delicado(a) en el trato con los dems',\n",
       " ['Presenta sus trabajos con orden y gusto esttico.'],\n",
       " ['Expresa con claridad y coherencia sus ideas.',\n",
       "  ['Se le dificulta adaptarse con facilidad al ambiente academicomostrando timidez, apata y dependencia.'],\n",
       "  ['Presenta sus trabajos con orden y gusto esttico.']],\n",
       " [],\n",
       " ['Presenta sus trabajos con orden y gusto esttico.'],\n",
       " ['Disfruta y se integra a las diferentes propuestas cientficas en forma continua y puntual.',\n",
       "  ['Se destaca por su gran capacidad matemtica y colaboracin con sus compaeros y acompaantes.'],\n",
       "  ['Se observa en su comportamiento que es un poco introvertido(a) al integrarse con sus compaeros.']],\n",
       " ['Su lenguaje oral no es claro.']]"
      ]
     },
     "execution_count": 34,
     "metadata": {},
     "output_type": "execute_result"
    }
   ],
   "source": [
    "b"
   ]
  },
  {
   "cell_type": "code",
   "execution_count": 40,
   "metadata": {},
   "outputs": [
    {
     "name": "stdout",
     "output_type": "stream",
     "text": [
      "Nicolas Gomez\n",
      "Empty DataFrame\n",
      "Columns: []\n",
      "Index: []\n",
      "else\n",
      "Camilo Duarte\n",
      "         Nombres                                           Descript\n",
      "0  Nicolas Gomez  Demuestra responsabilidad al realizar las acti...\n",
      "Golasmith Montoya\n",
      "         Nombres                                           Descript\n",
      "0  Nicolas Gomez  Demuestra responsabilidad al realizar las acti...\n",
      "1  Camilo Duarte  ['Practica normas de seguridad correspondiente...\n",
      "Henao Felipe\n",
      "             Nombres                                           Descript\n",
      "0      Nicolas Gomez  Demuestra responsabilidad al realizar las acti...\n",
      "1      Camilo Duarte  ['Practica normas de seguridad correspondiente...\n",
      "2  Golasmith Montoya  Disfruta y se integra a las diferentes propues...\n"
     ]
    },
    {
     "data": {
      "text/html": [
       "<div>\n",
       "<style scoped>\n",
       "    .dataframe tbody tr th:only-of-type {\n",
       "        vertical-align: middle;\n",
       "    }\n",
       "\n",
       "    .dataframe tbody tr th {\n",
       "        vertical-align: top;\n",
       "    }\n",
       "\n",
       "    .dataframe thead th {\n",
       "        text-align: right;\n",
       "    }\n",
       "</style>\n",
       "<table border=\"1\" class=\"dataframe\">\n",
       "  <thead>\n",
       "    <tr style=\"text-align: right;\">\n",
       "      <th></th>\n",
       "      <th>Nombres</th>\n",
       "      <th>Descript</th>\n",
       "    </tr>\n",
       "  </thead>\n",
       "  <tbody>\n",
       "    <tr>\n",
       "      <th>0</th>\n",
       "      <td>Nicolas Gomez</td>\n",
       "      <td>Demuestra responsabilidad al realizar las acti...</td>\n",
       "    </tr>\n",
       "    <tr>\n",
       "      <th>1</th>\n",
       "      <td>Camilo Duarte</td>\n",
       "      <td>['Practica normas de seguridad correspondiente...</td>\n",
       "    </tr>\n",
       "    <tr>\n",
       "      <th>2</th>\n",
       "      <td>Golasmith Montoya</td>\n",
       "      <td>Disfruta y se integra a las diferentes propues...</td>\n",
       "    </tr>\n",
       "    <tr>\n",
       "      <th>3</th>\n",
       "      <td>Henao Felipe</td>\n",
       "      <td>['Alcanza los logros propuestos para el taller...</td>\n",
       "    </tr>\n",
       "  </tbody>\n",
       "</table>\n",
       "</div>"
      ],
      "text/plain": [
       "             Nombres                                           Descript\n",
       "0      Nicolas Gomez  Demuestra responsabilidad al realizar las acti...\n",
       "1      Camilo Duarte  ['Practica normas de seguridad correspondiente...\n",
       "2  Golasmith Montoya  Disfruta y se integra a las diferentes propues...\n",
       "3       Henao Felipe  ['Alcanza los logros propuestos para el taller..."
      ]
     },
     "execution_count": 40,
     "metadata": {},
     "output_type": "execute_result"
    }
   ],
   "source": [
    "b=[]\n",
    "b.clear()\n",
    "df=pd.DataFrame()\n",
    "isfirtstime=True\n",
    "for i in fase3:\n",
    "    print(i)\n",
    "    b=random.choice(a)\n",
    "    b.append(random.choice(a))\n",
    "    b.append(random.choice(a))\n",
    "    values = ','.join(str(v) for v in b)\n",
    "\n",
    "    print(df)\n",
    "    if isfirtstime  :\n",
    "        d = {'Nombres': i, 'Descript': values}\n",
    "        df = pd.DataFrame(data=d, index=[0])\n",
    "        print('else')\n",
    "    else:\n",
    "        df=df.append({'Nombres': i, 'Descript': values}, ignore_index=True)\n",
    "        #print('if')\n",
    "       \n",
    "        \n",
    "    isfirtstime=False\n",
    "df"
   ]
  },
  {
   "cell_type": "code",
   "execution_count": 41,
   "metadata": {},
   "outputs": [],
   "source": [
    "df.to_csv('prueba.csv')"
   ]
  },
  {
   "cell_type": "code",
   "execution_count": 62,
   "metadata": {},
   "outputs": [],
   "source": [
    "b=a[1]\n",
    "b.append(a[2])\n",
    "b.append(a[3])"
   ]
  },
  {
   "cell_type": "code",
   "execution_count": 63,
   "metadata": {},
   "outputs": [
    {
     "data": {
      "text/plain": [
       "['Se le dificulta adaptarse con facilidad al ambiente academicomostrando timidez, apata y dependencia.',\n",
       " ['Disfruta y se integra a las diferentes propuestas cientficas en forma continua y puntual.'],\n",
       " ['Se destaca por su gran capacidad matemtica y colaboracin con sus compaeros y acompaantes.']]"
      ]
     },
     "execution_count": 63,
     "metadata": {},
     "output_type": "execute_result"
    }
   ],
   "source": [
    "b"
   ]
  },
  {
   "cell_type": "code",
   "execution_count": 59,
   "metadata": {},
   "outputs": [
    {
     "data": {
      "text/plain": [
       "['Se adapta con facilidad al ambiente academico mostrando confianza, alegra e independencia.',\n",
       " ['Se le dificulta adaptarse con facilidad al ambiente academicomostrando timidez, apata y dependencia.'],\n",
       " ['Se le dificulta adaptarse con facilidad al ambiente academicomostrando timidez, apata y dependencia.'],\n",
       " ['Se le dificulta adaptarse con facilidad al ambiente academicomostrando timidez, apata y dependencia.'],\n",
       " ['Se le dificulta adaptarse con facilidad al ambiente academicomostrando timidez, apata y dependencia.'],\n",
       " ['Se le dificulta adaptarse con facilidad al ambiente academicomostrando timidez, apata y dependencia.'],\n",
       " [3],\n",
       " ['Se le dificulta adaptarse con facilidad al ambiente academicomostrando timidez, apata y dependencia.'],\n",
       " ['Disfruta y se integra a las diferentes propuestas cientficas en forma continua y puntual.']]"
      ]
     },
     "execution_count": 59,
     "metadata": {},
     "output_type": "execute_result"
    }
   ],
   "source": [
    "a[1]"
   ]
  },
  {
   "cell_type": "code",
   "execution_count": 64,
   "metadata": {},
   "outputs": [],
   "source": [
    "df=pd.DataFrame()"
   ]
  },
  {
   "cell_type": "code",
   "execution_count": 74,
   "metadata": {},
   "outputs": [],
   "source": [
    "df=df.append({'Nombres': fase3[1], 'Descript': a[1]}, ignore_index=True)"
   ]
  },
  {
   "cell_type": "code",
   "execution_count": 77,
   "metadata": {},
   "outputs": [
    {
     "data": {
      "text/html": [
       "<div>\n",
       "<style scoped>\n",
       "    .dataframe tbody tr th:only-of-type {\n",
       "        vertical-align: middle;\n",
       "    }\n",
       "\n",
       "    .dataframe tbody tr th {\n",
       "        vertical-align: top;\n",
       "    }\n",
       "\n",
       "    .dataframe thead th {\n",
       "        text-align: right;\n",
       "    }\n",
       "</style>\n",
       "<table border=\"1\" class=\"dataframe\">\n",
       "  <thead>\n",
       "    <tr style=\"text-align: right;\">\n",
       "      <th></th>\n",
       "    </tr>\n",
       "  </thead>\n",
       "  <tbody>\n",
       "  </tbody>\n",
       "</table>\n",
       "</div>"
      ],
      "text/plain": [
       "Empty DataFrame\n",
       "Columns: []\n",
       "Index: []"
      ]
     },
     "execution_count": 77,
     "metadata": {},
     "output_type": "execute_result"
    }
   ],
   "source": [
    "df=pd.DataFrame()\n",
    "df\n"
   ]
  },
  {
   "cell_type": "code",
   "execution_count": null,
   "metadata": {},
   "outputs": [],
   "source": []
  }
 ],
 "metadata": {
  "kernelspec": {
   "display_name": "Python 3",
   "language": "python",
   "name": "python3"
  },
  "language_info": {
   "codemirror_mode": {
    "name": "ipython",
    "version": 3
   },
   "file_extension": ".py",
   "mimetype": "text/x-python",
   "name": "python",
   "nbconvert_exporter": "python",
   "pygments_lexer": "ipython3",
   "version": "3.6.8"
  }
 },
 "nbformat": 4,
 "nbformat_minor": 2
}
